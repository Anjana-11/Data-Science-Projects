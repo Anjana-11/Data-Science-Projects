{
 "cells": [
  {
   "cell_type": "markdown",
   "id": "64833495-a56b-421d-9c99-9b06e693b130",
   "metadata": {},
   "source": [
    "CENSUS INCOME PROJECT"
   ]
  },
  {
   "cell_type": "code",
   "execution_count": null,
   "id": "f965a23f-7223-469d-8d8f-0e0a12f32329",
   "metadata": {},
   "outputs": [],
   "source": [
    "Problem Statement:\n",
    "\n",
    "In this project, initially you need to preprocess the data and then develop an understanding \n",
    "of different features of the data by performing exploratory analysis and creating \n",
    "visualizations.Further, after having sufficient knowledge about the attributes you will perform \n",
    "a predictive task of classification to predict whether an individual makes over 50K a year or \n",
    "less,by using different Machine Learning Algorithms."
   ]
  },
  {
   "cell_type": "code",
   "execution_count": 1,
   "id": "e1dc3d7c-c85c-45c1-aa40-3bfec9451655",
   "metadata": {},
   "outputs": [
    {
     "data": {
      "text/html": [
       "<div>\n",
       "<style scoped>\n",
       "    .dataframe tbody tr th:only-of-type {\n",
       "        vertical-align: middle;\n",
       "    }\n",
       "\n",
       "    .dataframe tbody tr th {\n",
       "        vertical-align: top;\n",
       "    }\n",
       "\n",
       "    .dataframe thead th {\n",
       "        text-align: right;\n",
       "    }\n",
       "</style>\n",
       "<table border=\"1\" class=\"dataframe\">\n",
       "  <thead>\n",
       "    <tr style=\"text-align: right;\">\n",
       "      <th></th>\n",
       "      <th>age</th>\n",
       "      <th>workclass</th>\n",
       "      <th>fnlwgt</th>\n",
       "      <th>education</th>\n",
       "      <th>education-num</th>\n",
       "      <th>marital-status</th>\n",
       "      <th>occupation</th>\n",
       "      <th>relationship</th>\n",
       "      <th>race</th>\n",
       "      <th>sex</th>\n",
       "      <th>capital-gain</th>\n",
       "      <th>capital-loss</th>\n",
       "      <th>hours-per-week</th>\n",
       "      <th>native-country</th>\n",
       "      <th></th>\n",
       "    </tr>\n",
       "  </thead>\n",
       "  <tbody>\n",
       "    <tr>\n",
       "      <th>0</th>\n",
       "      <td>39</td>\n",
       "      <td>State-gov</td>\n",
       "      <td>77516</td>\n",
       "      <td>Bachelors</td>\n",
       "      <td>13</td>\n",
       "      <td>Never-married</td>\n",
       "      <td>Adm-clerical</td>\n",
       "      <td>Not-in-family</td>\n",
       "      <td>White</td>\n",
       "      <td>Male</td>\n",
       "      <td>2174</td>\n",
       "      <td>0</td>\n",
       "      <td>40</td>\n",
       "      <td>United-States</td>\n",
       "      <td>&lt;=50K</td>\n",
       "    </tr>\n",
       "    <tr>\n",
       "      <th>1</th>\n",
       "      <td>50</td>\n",
       "      <td>Self-emp-not-inc</td>\n",
       "      <td>83311</td>\n",
       "      <td>Bachelors</td>\n",
       "      <td>13</td>\n",
       "      <td>Married-civ-spouse</td>\n",
       "      <td>Exec-managerial</td>\n",
       "      <td>Husband</td>\n",
       "      <td>White</td>\n",
       "      <td>Male</td>\n",
       "      <td>0</td>\n",
       "      <td>0</td>\n",
       "      <td>13</td>\n",
       "      <td>United-States</td>\n",
       "      <td>&lt;=50K</td>\n",
       "    </tr>\n",
       "    <tr>\n",
       "      <th>2</th>\n",
       "      <td>38</td>\n",
       "      <td>Private</td>\n",
       "      <td>215646</td>\n",
       "      <td>HS-grad</td>\n",
       "      <td>9</td>\n",
       "      <td>Divorced</td>\n",
       "      <td>Handlers-cleaners</td>\n",
       "      <td>Not-in-family</td>\n",
       "      <td>White</td>\n",
       "      <td>Male</td>\n",
       "      <td>0</td>\n",
       "      <td>0</td>\n",
       "      <td>40</td>\n",
       "      <td>United-States</td>\n",
       "      <td>&lt;=50K</td>\n",
       "    </tr>\n",
       "    <tr>\n",
       "      <th>3</th>\n",
       "      <td>53</td>\n",
       "      <td>Private</td>\n",
       "      <td>234721</td>\n",
       "      <td>11th</td>\n",
       "      <td>7</td>\n",
       "      <td>Married-civ-spouse</td>\n",
       "      <td>Handlers-cleaners</td>\n",
       "      <td>Husband</td>\n",
       "      <td>Black</td>\n",
       "      <td>Male</td>\n",
       "      <td>0</td>\n",
       "      <td>0</td>\n",
       "      <td>40</td>\n",
       "      <td>United-States</td>\n",
       "      <td>&lt;=50K</td>\n",
       "    </tr>\n",
       "    <tr>\n",
       "      <th>4</th>\n",
       "      <td>28</td>\n",
       "      <td>Private</td>\n",
       "      <td>338409</td>\n",
       "      <td>Bachelors</td>\n",
       "      <td>13</td>\n",
       "      <td>Married-civ-spouse</td>\n",
       "      <td>Prof-specialty</td>\n",
       "      <td>Wife</td>\n",
       "      <td>Black</td>\n",
       "      <td>Female</td>\n",
       "      <td>0</td>\n",
       "      <td>0</td>\n",
       "      <td>40</td>\n",
       "      <td>Cuba</td>\n",
       "      <td>&lt;=50K</td>\n",
       "    </tr>\n",
       "    <tr>\n",
       "      <th>...</th>\n",
       "      <td>...</td>\n",
       "      <td>...</td>\n",
       "      <td>...</td>\n",
       "      <td>...</td>\n",
       "      <td>...</td>\n",
       "      <td>...</td>\n",
       "      <td>...</td>\n",
       "      <td>...</td>\n",
       "      <td>...</td>\n",
       "      <td>...</td>\n",
       "      <td>...</td>\n",
       "      <td>...</td>\n",
       "      <td>...</td>\n",
       "      <td>...</td>\n",
       "      <td>...</td>\n",
       "    </tr>\n",
       "    <tr>\n",
       "      <th>32556</th>\n",
       "      <td>27</td>\n",
       "      <td>Private</td>\n",
       "      <td>257302</td>\n",
       "      <td>Assoc-acdm</td>\n",
       "      <td>12</td>\n",
       "      <td>Married-civ-spouse</td>\n",
       "      <td>Tech-support</td>\n",
       "      <td>Wife</td>\n",
       "      <td>White</td>\n",
       "      <td>Female</td>\n",
       "      <td>0</td>\n",
       "      <td>0</td>\n",
       "      <td>38</td>\n",
       "      <td>United-States</td>\n",
       "      <td>&lt;=50K</td>\n",
       "    </tr>\n",
       "    <tr>\n",
       "      <th>32557</th>\n",
       "      <td>40</td>\n",
       "      <td>Private</td>\n",
       "      <td>154374</td>\n",
       "      <td>HS-grad</td>\n",
       "      <td>9</td>\n",
       "      <td>Married-civ-spouse</td>\n",
       "      <td>Machine-op-inspct</td>\n",
       "      <td>Husband</td>\n",
       "      <td>White</td>\n",
       "      <td>Male</td>\n",
       "      <td>0</td>\n",
       "      <td>0</td>\n",
       "      <td>40</td>\n",
       "      <td>United-States</td>\n",
       "      <td>&gt;50K</td>\n",
       "    </tr>\n",
       "    <tr>\n",
       "      <th>32558</th>\n",
       "      <td>58</td>\n",
       "      <td>Private</td>\n",
       "      <td>151910</td>\n",
       "      <td>HS-grad</td>\n",
       "      <td>9</td>\n",
       "      <td>Widowed</td>\n",
       "      <td>Adm-clerical</td>\n",
       "      <td>Unmarried</td>\n",
       "      <td>White</td>\n",
       "      <td>Female</td>\n",
       "      <td>0</td>\n",
       "      <td>0</td>\n",
       "      <td>40</td>\n",
       "      <td>United-States</td>\n",
       "      <td>&lt;=50K</td>\n",
       "    </tr>\n",
       "    <tr>\n",
       "      <th>32559</th>\n",
       "      <td>22</td>\n",
       "      <td>Private</td>\n",
       "      <td>201490</td>\n",
       "      <td>HS-grad</td>\n",
       "      <td>9</td>\n",
       "      <td>Never-married</td>\n",
       "      <td>Adm-clerical</td>\n",
       "      <td>Own-child</td>\n",
       "      <td>White</td>\n",
       "      <td>Male</td>\n",
       "      <td>0</td>\n",
       "      <td>0</td>\n",
       "      <td>20</td>\n",
       "      <td>United-States</td>\n",
       "      <td>&lt;=50K</td>\n",
       "    </tr>\n",
       "    <tr>\n",
       "      <th>32560</th>\n",
       "      <td>52</td>\n",
       "      <td>Self-emp-inc</td>\n",
       "      <td>287927</td>\n",
       "      <td>HS-grad</td>\n",
       "      <td>9</td>\n",
       "      <td>Married-civ-spouse</td>\n",
       "      <td>Exec-managerial</td>\n",
       "      <td>Wife</td>\n",
       "      <td>White</td>\n",
       "      <td>Female</td>\n",
       "      <td>15024</td>\n",
       "      <td>0</td>\n",
       "      <td>40</td>\n",
       "      <td>United-States</td>\n",
       "      <td>&gt;50K</td>\n",
       "    </tr>\n",
       "  </tbody>\n",
       "</table>\n",
       "<p>32561 rows × 15 columns</p>\n",
       "</div>"
      ],
      "text/plain": [
       "       age          workclass   fnlwgt    education   education-num  \\\n",
       "0       39          State-gov    77516    Bachelors              13   \n",
       "1       50   Self-emp-not-inc    83311    Bachelors              13   \n",
       "2       38            Private   215646      HS-grad               9   \n",
       "3       53            Private   234721         11th               7   \n",
       "4       28            Private   338409    Bachelors              13   \n",
       "...    ...                ...      ...          ...             ...   \n",
       "32556   27            Private   257302   Assoc-acdm              12   \n",
       "32557   40            Private   154374      HS-grad               9   \n",
       "32558   58            Private   151910      HS-grad               9   \n",
       "32559   22            Private   201490      HS-grad               9   \n",
       "32560   52       Self-emp-inc   287927      HS-grad               9   \n",
       "\n",
       "            marital-status          occupation    relationship    race  \\\n",
       "0            Never-married        Adm-clerical   Not-in-family   White   \n",
       "1       Married-civ-spouse     Exec-managerial         Husband   White   \n",
       "2                 Divorced   Handlers-cleaners   Not-in-family   White   \n",
       "3       Married-civ-spouse   Handlers-cleaners         Husband   Black   \n",
       "4       Married-civ-spouse      Prof-specialty            Wife   Black   \n",
       "...                    ...                 ...             ...     ...   \n",
       "32556   Married-civ-spouse        Tech-support            Wife   White   \n",
       "32557   Married-civ-spouse   Machine-op-inspct         Husband   White   \n",
       "32558              Widowed        Adm-clerical       Unmarried   White   \n",
       "32559        Never-married        Adm-clerical       Own-child   White   \n",
       "32560   Married-civ-spouse     Exec-managerial            Wife   White   \n",
       "\n",
       "           sex   capital-gain   capital-loss   hours-per-week  native-country  \\\n",
       "0         Male           2174              0               40   United-States   \n",
       "1         Male              0              0               13   United-States   \n",
       "2         Male              0              0               40   United-States   \n",
       "3         Male              0              0               40   United-States   \n",
       "4       Female              0              0               40            Cuba   \n",
       "...        ...            ...            ...              ...             ...   \n",
       "32556   Female              0              0               38   United-States   \n",
       "32557     Male              0              0               40   United-States   \n",
       "32558   Female              0              0               40   United-States   \n",
       "32559     Male              0              0               20   United-States   \n",
       "32560   Female          15024              0               40   United-States   \n",
       "\n",
       "               \n",
       "0       <=50K  \n",
       "1       <=50K  \n",
       "2       <=50K  \n",
       "3       <=50K  \n",
       "4       <=50K  \n",
       "...       ...  \n",
       "32556   <=50K  \n",
       "32557    >50K  \n",
       "32558   <=50K  \n",
       "32559   <=50K  \n",
       "32560    >50K  \n",
       "\n",
       "[32561 rows x 15 columns]"
      ]
     },
     "execution_count": 1,
     "metadata": {},
     "output_type": "execute_result"
    }
   ],
   "source": [
    "import pandas as pd\n",
    "Census_Income=pd.read_csv(r\"C:\\Users\\anjan\\OneDrive\\Desktop\\Projects\\census-income (7).csv\")\n",
    "Census_Income"
   ]
  },
  {
   "cell_type": "code",
   "execution_count": null,
   "id": "3e68b58c-5232-4643-98b4-c7ebe8433391",
   "metadata": {},
   "outputs": [],
   "source": []
  },
  {
   "cell_type": "markdown",
   "id": "ecacbd7a-2668-4b1f-ad93-17c2de23b95a",
   "metadata": {},
   "source": [
    "1. DATA PREPROCESSING:"
   ]
  },
  {
   "cell_type": "markdown",
   "id": "13d2a9f8-c282-4291-81a9-c1446c5a7cef",
   "metadata": {},
   "source": [
    "(a) Replace all the missing values with NA."
   ]
  },
  {
   "cell_type": "code",
   "execution_count": 3,
   "id": "75d395e9-fff5-486a-bd8c-307c67a48a4d",
   "metadata": {},
   "outputs": [
    {
     "name": "stdout",
     "output_type": "stream",
     "text": [
      "       age          workclass   fnlwgt    education   education-num  \\\n",
      "0       39          State-gov    77516    Bachelors              13   \n",
      "1       50   Self-emp-not-inc    83311    Bachelors              13   \n",
      "2       38            Private   215646      HS-grad               9   \n",
      "3       53            Private   234721         11th               7   \n",
      "4       28            Private   338409    Bachelors              13   \n",
      "...    ...                ...      ...          ...             ...   \n",
      "32556   27            Private   257302   Assoc-acdm              12   \n",
      "32557   40            Private   154374      HS-grad               9   \n",
      "32558   58            Private   151910      HS-grad               9   \n",
      "32559   22            Private   201490      HS-grad               9   \n",
      "32560   52       Self-emp-inc   287927      HS-grad               9   \n",
      "\n",
      "            marital-status          occupation    relationship    race  \\\n",
      "0            Never-married        Adm-clerical   Not-in-family   White   \n",
      "1       Married-civ-spouse     Exec-managerial         Husband   White   \n",
      "2                 Divorced   Handlers-cleaners   Not-in-family   White   \n",
      "3       Married-civ-spouse   Handlers-cleaners         Husband   Black   \n",
      "4       Married-civ-spouse      Prof-specialty            Wife   Black   \n",
      "...                    ...                 ...             ...     ...   \n",
      "32556   Married-civ-spouse        Tech-support            Wife   White   \n",
      "32557   Married-civ-spouse   Machine-op-inspct         Husband   White   \n",
      "32558              Widowed        Adm-clerical       Unmarried   White   \n",
      "32559        Never-married        Adm-clerical       Own-child   White   \n",
      "32560   Married-civ-spouse     Exec-managerial            Wife   White   \n",
      "\n",
      "           sex   capital-gain   capital-loss   hours-per-week  native-country  \\\n",
      "0         Male           2174              0               40   United-States   \n",
      "1         Male              0              0               13   United-States   \n",
      "2         Male              0              0               40   United-States   \n",
      "3         Male              0              0               40   United-States   \n",
      "4       Female              0              0               40            Cuba   \n",
      "...        ...            ...            ...              ...             ...   \n",
      "32556   Female              0              0               38   United-States   \n",
      "32557     Male              0              0               40   United-States   \n",
      "32558   Female              0              0               40   United-States   \n",
      "32559     Male              0              0               20   United-States   \n",
      "32560   Female          15024              0               40   United-States   \n",
      "\n",
      "               \n",
      "0       <=50K  \n",
      "1       <=50K  \n",
      "2       <=50K  \n",
      "3       <=50K  \n",
      "4       <=50K  \n",
      "...       ...  \n",
      "32556   <=50K  \n",
      "32557    >50K  \n",
      "32558   <=50K  \n",
      "32559   <=50K  \n",
      "32560    >50K  \n",
      "\n",
      "[32561 rows x 15 columns]\n"
     ]
    }
   ],
   "source": [
    "import pandas as pd\n",
    "Census_Income=pd.read_csv(r\"C:\\Users\\anjan\\OneDrive\\Desktop\\Projects\\census-income (7).csv\")\n",
    "Census_Income.fillna('NA', inplace=True)\n",
    "print(Census_Income)"
   ]
  },
  {
   "cell_type": "markdown",
   "id": "1ab1ff12-5731-4ab1-b720-f7ef7a3d30c6",
   "metadata": {},
   "source": [
    "b) Remove all the rows that contain NA values."
   ]
  },
  {
   "cell_type": "code",
   "execution_count": 5,
   "id": "7af6dbda-1733-44a1-bf4c-34662d9b3ac8",
   "metadata": {},
   "outputs": [
    {
     "name": "stdout",
     "output_type": "stream",
     "text": [
      "       age          workclass   fnlwgt    education   education-num  \\\n",
      "0       39          State-gov    77516    Bachelors              13   \n",
      "1       50   Self-emp-not-inc    83311    Bachelors              13   \n",
      "2       38            Private   215646      HS-grad               9   \n",
      "3       53            Private   234721         11th               7   \n",
      "4       28            Private   338409    Bachelors              13   \n",
      "...    ...                ...      ...          ...             ...   \n",
      "32556   27            Private   257302   Assoc-acdm              12   \n",
      "32557   40            Private   154374      HS-grad               9   \n",
      "32558   58            Private   151910      HS-grad               9   \n",
      "32559   22            Private   201490      HS-grad               9   \n",
      "32560   52       Self-emp-inc   287927      HS-grad               9   \n",
      "\n",
      "            marital-status          occupation    relationship    race  \\\n",
      "0            Never-married        Adm-clerical   Not-in-family   White   \n",
      "1       Married-civ-spouse     Exec-managerial         Husband   White   \n",
      "2                 Divorced   Handlers-cleaners   Not-in-family   White   \n",
      "3       Married-civ-spouse   Handlers-cleaners         Husband   Black   \n",
      "4       Married-civ-spouse      Prof-specialty            Wife   Black   \n",
      "...                    ...                 ...             ...     ...   \n",
      "32556   Married-civ-spouse        Tech-support            Wife   White   \n",
      "32557   Married-civ-spouse   Machine-op-inspct         Husband   White   \n",
      "32558              Widowed        Adm-clerical       Unmarried   White   \n",
      "32559        Never-married        Adm-clerical       Own-child   White   \n",
      "32560   Married-civ-spouse     Exec-managerial            Wife   White   \n",
      "\n",
      "           sex   capital-gain   capital-loss   hours-per-week  native-country  \\\n",
      "0         Male           2174              0               40   United-States   \n",
      "1         Male              0              0               13   United-States   \n",
      "2         Male              0              0               40   United-States   \n",
      "3         Male              0              0               40   United-States   \n",
      "4       Female              0              0               40            Cuba   \n",
      "...        ...            ...            ...              ...             ...   \n",
      "32556   Female              0              0               38   United-States   \n",
      "32557     Male              0              0               40   United-States   \n",
      "32558   Female              0              0               40   United-States   \n",
      "32559     Male              0              0               20   United-States   \n",
      "32560   Female          15024              0               40   United-States   \n",
      "\n",
      "               \n",
      "0       <=50K  \n",
      "1       <=50K  \n",
      "2       <=50K  \n",
      "3       <=50K  \n",
      "4       <=50K  \n",
      "...       ...  \n",
      "32556   <=50K  \n",
      "32557    >50K  \n",
      "32558   <=50K  \n",
      "32559   <=50K  \n",
      "32560    >50K  \n",
      "\n",
      "[32561 rows x 15 columns]\n"
     ]
    }
   ],
   "source": [
    "import pandas as pd\n",
    "Census_Income=pd.read_csv(r\"C:\\Users\\anjan\\OneDrive\\Desktop\\Projects\\census-income (7).csv\")\n",
    "Census_Income.dropna(inplace=True)\n",
    "print(Census_Income)"
   ]
  },
  {
   "cell_type": "code",
   "execution_count": null,
   "id": "5259e89c-4a66-4fc5-ab79-a0bac4f772ca",
   "metadata": {},
   "outputs": [],
   "source": []
  },
  {
   "cell_type": "markdown",
   "id": "16729e05-579b-4049-9c3e-9866f4853487",
   "metadata": {},
   "source": [
    "2. DATA MANIPULATION:"
   ]
  },
  {
   "cell_type": "markdown",
   "id": "88d1b82f-f0c2-4837-85d7-07df0614f71f",
   "metadata": {},
   "source": [
    "a) Extract the “education” column and store it in “census_ed”."
   ]
  },
  {
   "cell_type": "code",
   "execution_count": 7,
   "id": "670dbd8f-e3d8-4563-b5e7-7d4b8121972f",
   "metadata": {},
   "outputs": [
    {
     "name": "stdout",
     "output_type": "stream",
     "text": [
      "0     Bachelors\n",
      "1     Bachelors\n",
      "2       HS-grad\n",
      "3          11th\n",
      "4     Bachelors\n",
      "Name: education, dtype: object\n"
     ]
    }
   ],
   "source": [
    "import pandas as pd\n",
    "Census_Income=pd.read_csv(r\"C:\\Users\\anjan\\OneDrive\\Desktop\\Projects\\census-income (7).csv\")\n",
    "Census_Income.columns = Census_Income.columns.str.strip()\n",
    "census_ed = Census_Income['education']\n",
    "print(census_ed.head())"
   ]
  },
  {
   "cell_type": "markdown",
   "id": "dd80a992-40d2-4295-86f7-d43ec25c3822",
   "metadata": {},
   "source": [
    "b) Extract all the columns from “age” to “relationship” and store it in “census_seq”."
   ]
  },
  {
   "cell_type": "code",
   "execution_count": 9,
   "id": "ebc139b5-f6d8-4be6-9dce-0d074611d37f",
   "metadata": {},
   "outputs": [
    {
     "name": "stdout",
     "output_type": "stream",
     "text": [
      "   age          workclass  fnlwgt   education  education-num  \\\n",
      "0   39          State-gov   77516   Bachelors             13   \n",
      "1   50   Self-emp-not-inc   83311   Bachelors             13   \n",
      "2   38            Private  215646     HS-grad              9   \n",
      "3   53            Private  234721        11th              7   \n",
      "4   28            Private  338409   Bachelors             13   \n",
      "\n",
      "        marital-status          occupation    relationship  \n",
      "0        Never-married        Adm-clerical   Not-in-family  \n",
      "1   Married-civ-spouse     Exec-managerial         Husband  \n",
      "2             Divorced   Handlers-cleaners   Not-in-family  \n",
      "3   Married-civ-spouse   Handlers-cleaners         Husband  \n",
      "4   Married-civ-spouse      Prof-specialty            Wife  \n"
     ]
    }
   ],
   "source": [
    "import pandas as pd\n",
    "Census_Income = pd.read_csv(r\"C:\\Users\\anjan\\OneDrive\\Desktop\\Projects\\census-income (7).csv\")\n",
    "Census_Income.columns = Census_Income.columns.str.strip()\n",
    "census_seq = Census_Income.loc[:, 'age':'relationship']\n",
    "print(census_seq.head())"
   ]
  },
  {
   "cell_type": "markdown",
   "id": "e3639995-3f98-41a0-91da-fb32dba81058",
   "metadata": {},
   "source": [
    "c) Extract the column number “5”, “8”, “11” and store it in “census_col”."
   ]
  },
  {
   "cell_type": "code",
   "execution_count": 11,
   "id": "ea106cc5-8260-452a-9e84-7b968323d6f8",
   "metadata": {},
   "outputs": [
    {
     "name": "stdout",
     "output_type": "stream",
     "text": [
      "        marital-status    race   capital-loss\n",
      "0        Never-married   White              0\n",
      "1   Married-civ-spouse   White              0\n",
      "2             Divorced   White              0\n",
      "3   Married-civ-spouse   Black              0\n",
      "4   Married-civ-spouse   Black              0\n"
     ]
    }
   ],
   "source": [
    "import pandas as pd\n",
    "Census_Income = pd.read_csv(r\"C:\\Users\\anjan\\OneDrive\\Desktop\\Projects\\census-income (7).csv\")\n",
    "census_col = Census_Income.iloc[:, [5, 8, 11]]\n",
    "print(census_col.head())"
   ]
  },
  {
   "cell_type": "markdown",
   "id": "90d357d9-5806-405a-967e-06c9221b62bc",
   "metadata": {},
   "source": [
    "d) Extract all the male employees who work in state-gov and store it in “male_gov”."
   ]
  },
  {
   "cell_type": "code",
   "execution_count": 13,
   "id": "4f307d12-ea47-4a5c-b087-f9dc8c3018da",
   "metadata": {},
   "outputs": [
    {
     "name": "stdout",
     "output_type": "stream",
     "text": [
      "Empty DataFrame\n",
      "Columns: [age, workclass, fnlwgt, education, education-num, marital-status, occupation, relationship, race, sex, capital-gain, capital-loss, hours-per-week, native-country, ]\n",
      "Index: []\n"
     ]
    }
   ],
   "source": [
    "import pandas as pd\n",
    "Census_Income = pd.read_csv(r\"C:\\Users\\anjan\\OneDrive\\Desktop\\Projects\\census-income (7).csv\")\n",
    "Census_Income.columns = Census_Income.columns.str.strip()\n",
    "male_gov = Census_Income[(Census_Income['sex'] == 'Male') & (Census_Income['workclass'] == 'State-gov')]\n",
    "print(male_gov.head()) "
   ]
  },
  {
   "cell_type": "markdown",
   "id": "013178d3-caa6-4a34-b8f9-2747e1aa7c37",
   "metadata": {},
   "source": [
    "e) Extract all the 39 year olds who either have a bachelor's degree or who are \n",
    "native of the United States and store the result in “census_us”"
   ]
  },
  {
   "cell_type": "code",
   "execution_count": 15,
   "id": "118d9d63-fa90-4f74-99e0-02f1153d9d38",
   "metadata": {},
   "outputs": [
    {
     "name": "stdout",
     "output_type": "stream",
     "text": [
      "Empty DataFrame\n",
      "Columns: [age, workclass, fnlwgt, education, education-num, marital-status, occupation, relationship, race, sex, capital-gain, capital-loss, hours-per-week, native-country, ]\n",
      "Index: []\n"
     ]
    }
   ],
   "source": [
    "import pandas as pd\n",
    "Census_Income = pd.read_csv(r\"C:\\Users\\anjan\\OneDrive\\Desktop\\Projects\\census-income (7).csv\")\n",
    "Census_Income.columns = Census_Income.columns.str.strip()\n",
    "census_us = Census_Income[(Census_Income['age'] == 39) & \n",
    "                          ((Census_Income['education'] == \"Bachelors\") | \n",
    "                           (Census_Income['native-country'] == \"United-States\"))]\n",
    "print(census_us.head()) "
   ]
  },
  {
   "cell_type": "markdown",
   "id": "eb106620-7872-4ce3-98c2-ce1599622b81",
   "metadata": {},
   "source": [
    "f) Extract 200 random rows from the “census” data frame and store it in “census_200”."
   ]
  },
  {
   "cell_type": "code",
   "execution_count": 17,
   "id": "549bbf75-7b3f-4616-815d-bf17ba69f0df",
   "metadata": {},
   "outputs": [
    {
     "name": "stdout",
     "output_type": "stream",
     "text": [
      "       age          workclass  fnlwgt   education  education-num  \\\n",
      "9646    62   Self-emp-not-inc   26911     7th-8th              4   \n",
      "709     18            Private  208103        11th              7   \n",
      "7385    25            Private  102476   Bachelors             13   \n",
      "16671   33            Private  511517     HS-grad              9   \n",
      "21932   36            Private  292570        11th              7   \n",
      "\n",
      "            marital-status          occupation     relationship    race  \\\n",
      "9646               Widowed       Other-service    Not-in-family   White   \n",
      "709          Never-married       Other-service   Other-relative   White   \n",
      "7385         Never-married     Farming-fishing        Own-child   White   \n",
      "16671   Married-civ-spouse      Prof-specialty          Husband   White   \n",
      "21932        Never-married   Machine-op-inspct        Unmarried   White   \n",
      "\n",
      "           sex  capital-gain  capital-loss  hours-per-week  native-country  \\\n",
      "9646    Female             0             0              66   United-States   \n",
      "709       Male             0             0              25   United-States   \n",
      "7385      Male         27828             0              50   United-States   \n",
      "16671     Male             0             0              40   United-States   \n",
      "21932   Female             0             0              40   United-States   \n",
      "\n",
      "               \n",
      "9646    <=50K  \n",
      "709     <=50K  \n",
      "7385     >50K  \n",
      "16671   <=50K  \n",
      "21932   <=50K  \n"
     ]
    }
   ],
   "source": [
    "import pandas as pd\n",
    "Census_Income = pd.read_csv(r\"C:\\Users\\anjan\\OneDrive\\Desktop\\Projects\\census-income (7).csv\")\n",
    "Census_Income.columns = Census_Income.columns.str.strip()\n",
    "census_200 = Census_Income.sample(n=200, random_state=1)  # random_state ensures reproducibility\n",
    "print(census_200.head()) "
   ]
  },
  {
   "cell_type": "markdown",
   "id": "c55c347a-0df7-4909-a62c-70779a455096",
   "metadata": {},
   "source": [
    "g) Get the count of different levels of the “workclass” column."
   ]
  },
  {
   "cell_type": "code",
   "execution_count": 19,
   "id": "174e3deb-489b-4a06-a255-1f8b4e884465",
   "metadata": {},
   "outputs": [
    {
     "name": "stdout",
     "output_type": "stream",
     "text": [
      "workclass\n",
      " Private             22696\n",
      " Self-emp-not-inc     2541\n",
      " Local-gov            2093\n",
      " ?                    1836\n",
      " State-gov            1298\n",
      " Self-emp-inc         1116\n",
      " Federal-gov           960\n",
      " Without-pay            14\n",
      " Never-worked            7\n",
      "Name: count, dtype: int64\n"
     ]
    }
   ],
   "source": [
    "import pandas as pd\n",
    "Census_Income = pd.read_csv(r\"C:\\Users\\anjan\\OneDrive\\Desktop\\Projects\\census-income (7).csv\")\n",
    "Census_Income.columns = Census_Income.columns.str.strip()\n",
    "workclass_counts = Census_Income['workclass'].value_counts()\n",
    "print(workclass_counts)"
   ]
  },
  {
   "cell_type": "markdown",
   "id": "c01f908c-59f5-4f66-9b9c-427225456484",
   "metadata": {},
   "source": [
    "h) Calculate the mean of the “capital.gain” column grouped according to “workclass”."
   ]
  },
  {
   "cell_type": "code",
   "execution_count": 21,
   "id": "258158e4-8951-47ac-be2d-4822771fb851",
   "metadata": {},
   "outputs": [
    {
     "name": "stdout",
     "output_type": "stream",
     "text": [
      "workclass\n",
      " ?                    606.795752\n",
      " Federal-gov          833.232292\n",
      " Local-gov            880.202580\n",
      " Never-worked           0.000000\n",
      " Private              889.217792\n",
      " Self-emp-inc        4875.693548\n",
      " Self-emp-not-inc    1886.061787\n",
      " State-gov            701.699538\n",
      " Without-pay          487.857143\n",
      "Name: capital-gain, dtype: float64\n"
     ]
    }
   ],
   "source": [
    "import pandas as pd\n",
    "Census_Income = pd.read_csv(r\"C:\\Users\\anjan\\OneDrive\\Desktop\\Projects\\census-income (7).csv\")\n",
    "Census_Income.columns = Census_Income.columns.str.strip()\n",
    "mean_capital_gain_by_workclass = Census_Income.groupby('workclass')['capital-gain'].mean()\n",
    "print(mean_capital_gain_by_workclass)"
   ]
  },
  {
   "cell_type": "markdown",
   "id": "8810ae86-2d6c-4b85-b068-2f9bf074cec2",
   "metadata": {},
   "source": [
    "i) Create a separate dataframe with the details of males and females from the census \n",
    "data that has income more than 50,000. "
   ]
  },
  {
   "cell_type": "code",
   "execution_count": 23,
   "id": "a5b92f4c-b946-4350-922f-d36eeb237419",
   "metadata": {},
   "outputs": [
    {
     "name": "stdout",
     "output_type": "stream",
     "text": [
      "       age          workclass  fnlwgt      education  education-num  \\\n",
      "7       52   Self-emp-not-inc  209642        HS-grad              9   \n",
      "8       31            Private   45781        Masters             14   \n",
      "9       42            Private  159449      Bachelors             13   \n",
      "10      37            Private  280464   Some-college             10   \n",
      "11      30          State-gov  141297      Bachelors             13   \n",
      "...    ...                ...     ...            ...            ...   \n",
      "32539   71                  ?  287372      Doctorate             16   \n",
      "32545   39          Local-gov  111499     Assoc-acdm             12   \n",
      "32554   53            Private  321865        Masters             14   \n",
      "32557   40            Private  154374        HS-grad              9   \n",
      "32560   52       Self-emp-inc  287927        HS-grad              9   \n",
      "\n",
      "            marital-status          occupation    relationship  \\\n",
      "7       Married-civ-spouse     Exec-managerial         Husband   \n",
      "8            Never-married      Prof-specialty   Not-in-family   \n",
      "9       Married-civ-spouse     Exec-managerial         Husband   \n",
      "10      Married-civ-spouse     Exec-managerial         Husband   \n",
      "11      Married-civ-spouse      Prof-specialty         Husband   \n",
      "...                    ...                 ...             ...   \n",
      "32539   Married-civ-spouse                   ?         Husband   \n",
      "32545   Married-civ-spouse        Adm-clerical            Wife   \n",
      "32554   Married-civ-spouse     Exec-managerial         Husband   \n",
      "32557   Married-civ-spouse   Machine-op-inspct         Husband   \n",
      "32560   Married-civ-spouse     Exec-managerial            Wife   \n",
      "\n",
      "                      race      sex  capital-gain  capital-loss  \\\n",
      "7                    White     Male             0             0   \n",
      "8                    White   Female         14084             0   \n",
      "9                    White     Male          5178             0   \n",
      "10                   Black     Male             0             0   \n",
      "11      Asian-Pac-Islander     Male             0             0   \n",
      "...                    ...      ...           ...           ...   \n",
      "32539                White     Male             0             0   \n",
      "32545                White   Female             0             0   \n",
      "32554                White     Male             0             0   \n",
      "32557                White     Male             0             0   \n",
      "32560                White   Female         15024             0   \n",
      "\n",
      "       hours-per-week  native-country         \n",
      "7                  45   United-States   >50K  \n",
      "8                  50   United-States   >50K  \n",
      "9                  40   United-States   >50K  \n",
      "10                 80   United-States   >50K  \n",
      "11                 40           India   >50K  \n",
      "...               ...             ...    ...  \n",
      "32539              10   United-States   >50K  \n",
      "32545              20   United-States   >50K  \n",
      "32554              40   United-States   >50K  \n",
      "32557              40   United-States   >50K  \n",
      "32560              40   United-States   >50K  \n",
      "\n",
      "[7841 rows x 15 columns]\n"
     ]
    }
   ],
   "source": [
    "import pandas as pd\n",
    "Census_Income = pd.read_csv(r\"C:\\Users\\anjan\\OneDrive\\Desktop\\Projects\\census-income (7).csv\")\n",
    "Census_Income.columns = Census_Income.columns.str.strip()\n",
    "high_income = Census_Income[(Census_Income['sex'].str.strip() == 'Male') & (Census_Income[''].str.strip() == '>50K') | \n",
    "                            (Census_Income['sex'].str.strip() == 'Female') & (Census_Income[''].str.strip() == '>50K')]\n",
    "print(high_income)"
   ]
  },
  {
   "cell_type": "markdown",
   "id": "78bad63c-d755-49ce-9684-36c9b526c552",
   "metadata": {},
   "source": [
    "j) Calculate the percentage of people from the United States who are private employees \n",
    "and earn less than 50,000 annually. "
   ]
  },
  {
   "cell_type": "code",
   "execution_count": 25,
   "id": "1d7bec44-584c-4f5f-8466-8f1367f0a16f",
   "metadata": {},
   "outputs": [
    {
     "name": "stdout",
     "output_type": "stream",
     "text": [
      "Index(['age', ' workclass', ' fnlwgt', ' education', ' education-num',\n",
      "       ' marital-status', ' occupation', ' relationship', ' race', ' sex',\n",
      "       ' capital-gain', ' capital-loss', ' hours-per-week', ' native-country',\n",
      "       ' '],\n",
      "      dtype='object')\n"
     ]
    }
   ],
   "source": [
    "import pandas as pd\n",
    "Census_Income = pd.read_csv(r\"C:\\Users\\anjan\\OneDrive\\Desktop\\Projects\\census-income (7).csv\")\n",
    "print(Census_Income.columns)"
   ]
  },
  {
   "cell_type": "code",
   "execution_count": 27,
   "id": "1a2eae6f-6981-41ad-8247-69e3653628e0",
   "metadata": {},
   "outputs": [
    {
     "name": "stdout",
     "output_type": "stream",
     "text": [
      "Updated column names: Index(['age', 'workclass', 'fnlwgt', 'education', 'education-num',\n",
      "       'marital-status', 'occupation', 'relationship', 'race', 'sex',\n",
      "       'capital-gain', 'capital-loss', 'hours-per-week', 'native-country',\n",
      "       'income'],\n",
      "      dtype='object')\n"
     ]
    }
   ],
   "source": [
    "# renaming in the place of ' ' to 'income'\n",
    "import pandas as pd\n",
    "Census_Income = pd.read_csv(r\"C:\\Users\\anjan\\OneDrive\\Desktop\\Projects\\census-income (7).csv\")\n",
    "Census_Income.columns = Census_Income.columns.str.strip()\n",
    "Census_Income.rename(columns={'': 'income'}, inplace=True)\n",
    "print(\"Updated column names:\", Census_Income.columns)"
   ]
  },
  {
   "cell_type": "code",
   "execution_count": 29,
   "id": "2b71307a-94f6-4eb6-82a6-b35d492cbe8f",
   "metadata": {},
   "outputs": [
    {
     "name": "stdout",
     "output_type": "stream",
     "text": [
      "Index(['age', 'workclass', 'fnlwgt', 'education', 'education-num',\n",
      "       'marital-status', 'occupation', 'relationship', 'race', 'sex',\n",
      "       'capital-gain', 'capital-loss', 'hours-per-week', 'native-country',\n",
      "       'income'],\n",
      "      dtype='object')\n"
     ]
    }
   ],
   "source": [
    "# Now the updated dataset is saved to 'census-income-updated.csv'\n",
    "import pandas as pd\n",
    "Census_Income = pd.read_csv(r\"C:\\Users\\anjan\\OneDrive\\Desktop\\Projects\\census-income-updated.csv\")\n",
    "print(Census_Income.columns)"
   ]
  },
  {
   "cell_type": "code",
   "execution_count": 31,
   "id": "218d407e-7e54-433b-9fb1-e4030e0f0612",
   "metadata": {},
   "outputs": [
    {
     "name": "stdout",
     "output_type": "stream",
     "text": [
      "Unique values in 'native-country': ['United-States' 'Cuba' 'Jamaica' 'India' '?' 'Mexico' 'South'\n",
      " 'Puerto-Rico' 'Honduras' 'England' 'Canada' 'Germany' 'Iran'\n",
      " 'Philippines' 'Italy' 'Poland' 'Columbia' 'Cambodia' 'Thailand' 'Ecuador'\n",
      " 'Laos' 'Taiwan' 'Haiti' 'Portugal' 'Dominican-Republic' 'El-Salvador'\n",
      " 'France' 'Guatemala' 'China' 'Japan' 'Yugoslavia' 'Peru'\n",
      " 'Outlying-US(Guam-USVI-etc)' 'Scotland' 'Trinadad&Tobago' 'Greece'\n",
      " 'Nicaragua' 'Vietnam' 'Hong' 'Ireland' 'Hungary' 'Holand-Netherlands']\n",
      "Percentage of private employees from the US earning less than 50,000 annually: 53.46%\n"
     ]
    }
   ],
   "source": [
    "import pandas as pd\n",
    "Census_Income = pd.read_csv(r\"C:\\Users\\anjan\\OneDrive\\Desktop\\Projects\\census-income-updated.csv\")\n",
    "Census_Income.columns = Census_Income.columns.str.strip()\n",
    "Census_Income['native-country'] = Census_Income['native-country'].str.strip()\n",
    "Census_Income['workclass'] = Census_Income['workclass'].str.strip()\n",
    "Census_Income['income'] = Census_Income['income'].str.strip()\n",
    "print(\"Unique values in 'native-country':\", Census_Income['native-country'].unique())\n",
    "us_private_less_50k = Census_Income[(Census_Income['native-country'] == 'United-States') & \n",
    "                                    (Census_Income['workclass'] == 'Private') & \n",
    "                                    (Census_Income['income'] == '<=50K')]\n",
    "total_us_people = Census_Income[Census_Income['native-country'] == 'United-States'].shape[0]\n",
    "if total_us_people > 0:\n",
    "    percentage = (us_private_less_50k.shape[0] / total_us_people) * 100\n",
    "    print(f\"Percentage of private employees from the US earning less than 50,000 annually: {percentage:.2f}%\")\n",
    "else:\n",
    "    print(\"No entries found for 'United-States' in the dataset.\")"
   ]
  },
  {
   "cell_type": "markdown",
   "id": "79981ac1-9349-40ce-ab82-039d5a9202dc",
   "metadata": {},
   "source": [
    "k) Calculate the percentage of married people in the census data."
   ]
  },
  {
   "cell_type": "code",
   "execution_count": 33,
   "id": "8ad1bf7c-5334-4235-9383-4966e013ede0",
   "metadata": {},
   "outputs": [
    {
     "name": "stdout",
     "output_type": "stream",
     "text": [
      "Percentage of married people: 0.00%\n"
     ]
    }
   ],
   "source": [
    "import pandas as pd\n",
    "Census_Income = pd.read_csv(r\"C:\\Users\\anjan\\OneDrive\\Desktop\\Projects\\census-income-updated.csv\")\n",
    "Census_Income.columns = Census_Income.columns.str.strip()\n",
    "married_statuses = ['Married-civ-spouse', 'Married-AF-spouse', 'Married-spouse-absent']\n",
    "married_people = Census_Income[Census_Income['marital-status'].isin(married_statuses)]\n",
    "total_people = Census_Income.shape[0]\n",
    "percentage_married = (married_people.shape[0] / total_people) * 100\n",
    "print(f\"Percentage of married people: {percentage_married:.2f}%\")"
   ]
  },
  {
   "cell_type": "markdown",
   "id": "b8105ad0-41b2-42d8-9f2c-071503b0a7e0",
   "metadata": {},
   "source": [
    "l) Calculate the percentage of high school graduates earning more than 50,000 \r\n",
    "annually."
   ]
  },
  {
   "cell_type": "code",
   "execution_count": 35,
   "id": "27205ce5-68c4-48a0-8f15-f25d7bc0a0af",
   "metadata": {},
   "outputs": [
    {
     "name": "stdout",
     "output_type": "stream",
     "text": [
      "Unique values in 'education': [' Bachelors' ' HS-grad' ' 11th' ' Masters' ' 9th' ' Some-college'\n",
      " ' Assoc-acdm' ' Assoc-voc' ' 7th-8th' ' Doctorate' ' Prof-school'\n",
      " ' 5th-6th' ' 10th' ' 1st-4th' ' Preschool' ' 12th']\n",
      "There are no high school graduates in the dataset.\n"
     ]
    }
   ],
   "source": [
    "import pandas as pd\n",
    "Census_Income = pd.read_csv(r\"C:\\Users\\anjan\\OneDrive\\Desktop\\Projects\\census-income-updated.csv\")\n",
    "Census_Income.columns = Census_Income.columns.str.strip()\n",
    "print(\"Unique values in 'education':\", Census_Income['education'].unique())\n",
    "hs_grad_high_income = Census_Income[(Census_Income['education'] == 'HS-grad') & \n",
    "                                    (Census_Income['income'] == '>50K')]\n",
    "total_hs_grads = Census_Income[Census_Income['education'] == 'HS-grad'].shape[0]\n",
    "if total_hs_grads > 0:\n",
    "    percentage = (hs_grad_high_income.shape[0] / total_hs_grads) * 100\n",
    "    print(f\"Percentage of high school graduates earning more than 50,000 annually: {percentage:.2f}%\")\n",
    "else:\n",
    "    print(\"There are no high school graduates in the dataset.\")"
   ]
  },
  {
   "cell_type": "markdown",
   "id": "4546ebcb-d311-4972-9e24-392790eba226",
   "metadata": {},
   "source": []
  },
  {
   "cell_type": "markdown",
   "id": "89429fa9-5900-46d6-897e-764889557ff4",
   "metadata": {},
   "source": [
    "3. LINEAR REGRESSIION:"
   ]
  },
  {
   "cell_type": "markdown",
   "id": "04303b73-6427-40b2-9f5b-0907337b16ec",
   "metadata": {},
   "source": [
    "a) Build a simple linear regression model as follows:\n",
    "   \r",
    "Divide the dataset into training and test sets in 70:30 ratio.\n"
   ]
  },
  {
   "cell_type": "code",
   "execution_count": 37,
   "id": "524ca82d-4b46-480f-893c-f50b924d6942",
   "metadata": {},
   "outputs": [
    {
     "name": "stdout",
     "output_type": "stream",
     "text": [
      "Training set size: 22792\n",
      "Test set size: 9769\n"
     ]
    }
   ],
   "source": [
    "import pandas as pd\n",
    "from sklearn.model_selection import train_test_split\n",
    "Census_Income = pd.read_csv(r\"C:\\Users\\anjan\\OneDrive\\Desktop\\Projects\\census-income-updated.csv\")\n",
    "Census_Income.columns = Census_Income.columns.str.strip()\n",
    "train_set, test_set = train_test_split(Census_Income, test_size=0.3, random_state=42)\n",
    "print(f\"Training set size: {len(train_set)}\")\n",
    "print(f\"Test set size: {len(test_set)}\")"
   ]
  },
  {
   "cell_type": "markdown",
   "id": "94b4c840-24b7-4439-82fe-2159e4a6d0a1",
   "metadata": {},
   "source": [
    "Build a linear model on the test set where the dependent variable is \r\n",
    "“hours.per.week” and the independent variable is “education.num”."
   ]
  },
  {
   "cell_type": "code",
   "execution_count": 39,
   "id": "e0d3768d-458c-4f91-a065-d2af7c0b3a00",
   "metadata": {},
   "outputs": [
    {
     "name": "stdout",
     "output_type": "stream",
     "text": [
      "Coefficient: 0.7037917876310489\n",
      "Intercept: 33.28244965938252\n",
      "       Actual  Predicted\n",
      "14160      38  40.320368\n",
      "27048      40  39.616576\n",
      "28868      55  42.431743\n",
      "5667       40  42.431743\n",
      "7827       50  40.320368\n"
     ]
    }
   ],
   "source": [
    "import pandas as pd\n",
    "from sklearn.model_selection import train_test_split\n",
    "from sklearn.linear_model import LinearRegression\n",
    "import numpy as np\n",
    "Census_Income = pd.read_csv(r\"C:\\Users\\anjan\\OneDrive\\Desktop\\Projects\\census-income-updated.csv\")\n",
    "Census_Income.columns = Census_Income.columns.str.strip()\n",
    "train_set, test_set = train_test_split(Census_Income, test_size=0.3, random_state=42)\n",
    "X_train = train_set[['education-num']]  # Independent variable\n",
    "y_train = train_set['hours-per-week']    # Dependent variable\n",
    "\n",
    "X_test = test_set[['education-num']]\n",
    "y_test = test_set['hours-per-week']\n",
    "model = LinearRegression()\n",
    "model.fit(X_train, y_train)\n",
    "y_pred = model.predict(X_test)\n",
    "print(f\"Coefficient: {model.coef_[0]}\")\n",
    "print(f\"Intercept: {model.intercept_}\")\n",
    "predictions_df = pd.DataFrame({'Actual': y_test, 'Predicted': y_pred})\n",
    "print(predictions_df.head())"
   ]
  },
  {
   "cell_type": "markdown",
   "id": "8c943b55-81f0-4062-a5bc-4373bc72baed",
   "metadata": {},
   "source": [
    "Predict the values on the train set and find the error in prediction."
   ]
  },
  {
   "cell_type": "code",
   "execution_count": 41,
   "id": "b365720d-7680-4e78-8cb4-e572c2d0cf43",
   "metadata": {},
   "outputs": [
    {
     "name": "stdout",
     "output_type": "stream",
     "text": [
      "Mean Absolute Error (MAE) on the training set: 7.70\n",
      "Mean Squared Error (MSE) on the training set: 147.71\n"
     ]
    }
   ],
   "source": [
    "import pandas as pd\n",
    "from sklearn.model_selection import train_test_split\n",
    "from sklearn.linear_model import LinearRegression\n",
    "from sklearn.metrics import mean_absolute_error, mean_squared_error\n",
    "Census_Income = pd.read_csv(r\"C:\\Users\\anjan\\OneDrive\\Desktop\\Projects\\census-income-updated.csv\")\n",
    "Census_Income.columns = Census_Income.columns.str.strip()\n",
    "train_set, test_set = train_test_split(Census_Income, test_size=0.3, random_state=42)\n",
    "X_train = train_set[['education-num']]  # Independent variable\n",
    "y_train = train_set['hours-per-week']    # Dependent variable\n",
    "model = LinearRegression()\n",
    "model.fit(X_train, y_train)\n",
    "y_train_pred = model.predict(X_train)\n",
    "mae = mean_absolute_error(y_train, y_train_pred)\n",
    "mse = mean_squared_error(y_train, y_train_pred)\n",
    "print(f\"Mean Absolute Error (MAE) on the training set: {mae:.2f}\")\n",
    "print(f\"Mean Squared Error (MSE) on the training set: {mse:.2f}\")"
   ]
  },
  {
   "cell_type": "markdown",
   "id": "0fbcc1ca-9dde-43e2-b267-2d9e32f77637",
   "metadata": {},
   "source": [
    "Find the root-mean-square error (RMSE)."
   ]
  },
  {
   "cell_type": "code",
   "execution_count": 43,
   "id": "b136b1f6-275c-4c5d-87f6-0a59b9fbcc1d",
   "metadata": {},
   "outputs": [
    {
     "name": "stdout",
     "output_type": "stream",
     "text": [
      "Root Mean Squared Error (RMSE) on the training set: 12.15\n"
     ]
    }
   ],
   "source": [
    "import pandas as pd\n",
    "from sklearn.model_selection import train_test_split\n",
    "from sklearn.linear_model import LinearRegression\n",
    "from sklearn.metrics import mean_squared_error\n",
    "import numpy as np\n",
    "Census_Income = pd.read_csv(r\"C:\\Users\\anjan\\OneDrive\\Desktop\\Projects\\census-income-updated.csv\")\n",
    "Census_Income.columns = Census_Income.columns.str.strip()\n",
    "train_set, test_set = train_test_split(Census_Income, test_size=0.3, random_state=42)\n",
    "X_train = train_set[['education-num']]  # Independent variable\n",
    "y_train = train_set['hours-per-week']    # Dependent variable\n",
    "model = LinearRegression()\n",
    "model.fit(X_train, y_train)\n",
    "y_train_pred = model.predict(X_train)\n",
    "mse = mean_squared_error(y_train, y_train_pred)\n",
    "rmse = np.sqrt(mse)\n",
    "print(f\"Root Mean Squared Error (RMSE) on the training set: {rmse:.2f}\")"
   ]
  },
  {
   "cell_type": "markdown",
   "id": "ee16a8f2-411b-4748-ba27-8ed2dfba1d6c",
   "metadata": {},
   "source": []
  },
  {
   "cell_type": "markdown",
   "id": "0448fe45-7908-4dfc-a787-602eaaab389b",
   "metadata": {},
   "source": [
    "4. LOGISTIC REGRESSION:"
   ]
  },
  {
   "cell_type": "markdown",
   "id": "f4060b53-3d7a-4547-8ca6-40dfc6be0b59",
   "metadata": {},
   "source": [
    "a) Build a simple logistic regression model as follows:\r\n",
    " Divide the dataset into training and test sets in 65:35 rati.o"
   ]
  },
  {
   "cell_type": "code",
   "execution_count": 45,
   "id": "6032f97b-0ef7-4c69-b757-5abcc5cbed84",
   "metadata": {},
   "outputs": [
    {
     "name": "stdout",
     "output_type": "stream",
     "text": [
      "Training set size: 21164\n",
      "Test set size: 11397\n"
     ]
    }
   ],
   "source": [
    "import pandas as pd\n",
    "from sklearn.model_selection import train_test_split\n",
    "Census_Income = pd.read_csv(r\"C:\\Users\\anjan\\OneDrive\\Desktop\\Projects\\census-income-updated.csv\")\n",
    "Census_Income.columns = Census_Income.columns.str.strip()\n",
    "train_set, test_set = train_test_split(Census_Income, test_size=0.35, random_state=42)\n",
    "print(f\"Training set size: {train_set.shape[0]}\")\n",
    "print(f\"Test set size: {test_set.shape[0]}\")"
   ]
  },
  {
   "cell_type": "markdown",
   "id": "64cd3019-3eb9-4b19-af69-3c4d21e791f7",
   "metadata": {},
   "source": [
    "Build a logistic regression model where the dependent variable is \r\n",
    "“X”(yearly income) and the independent variable is “occupation.”"
   ]
  },
  {
   "cell_type": "code",
   "execution_count": 47,
   "id": "257ce81a-c4f2-4e42-810f-a957ad77b74f",
   "metadata": {},
   "outputs": [
    {
     "name": "stderr",
     "output_type": "stream",
     "text": [
      "C:\\Users\\anjan\\anaconda3\\Lib\\site-packages\\sklearn\\preprocessing\\_encoders.py:868: FutureWarning: `sparse` was renamed to `sparse_output` in version 1.2 and will be removed in 1.4. `sparse_output` is ignored unless you leave `sparse` to its default value.\n",
      "  warnings.warn(\n"
     ]
    },
    {
     "name": "stdout",
     "output_type": "stream",
     "text": [
      "Accuracy of the logistic regression model: 0.76\n"
     ]
    }
   ],
   "source": [
    "import pandas as pd\n",
    "from sklearn.model_selection import train_test_split\n",
    "from sklearn.linear_model import LogisticRegression\n",
    "from sklearn.preprocessing import OneHotEncoder\n",
    "from sklearn.metrics import accuracy_score\n",
    "Census_Income = pd.read_csv(r\"C:\\Users\\anjan\\OneDrive\\Desktop\\Projects\\census-income-updated.csv\")\n",
    "Census_Income.columns = Census_Income.columns.str.strip()\n",
    "X = Census_Income['occupation']\n",
    "y = Census_Income['income']\n",
    "encoder = OneHotEncoder(drop='first', sparse=False)\n",
    "X_encoded = encoder.fit_transform(X.values.reshape(-1, 1))\n",
    "X_train, X_test, y_train, y_test = train_test_split(X_encoded, y, test_size=0.2, random_state=42)\n",
    "logistic_model = LogisticRegression()\n",
    "logistic_model.fit(X_train, y_train)\n",
    "y_pred = logistic_model.predict(X_test)\n",
    "accuracy = accuracy_score(y_test, y_pred)\n",
    "print(f\"Accuracy of the logistic regression model: {accuracy:.2f}\")"
   ]
  },
  {
   "cell_type": "markdown",
   "id": "628dbb74-4f79-4950-96aa-46489c9cb640",
   "metadata": {},
   "source": [
    "Predict the values on the test set."
   ]
  },
  {
   "cell_type": "code",
   "execution_count": 49,
   "id": "18372ff4-d1ae-41f5-9940-ebf486579149",
   "metadata": {},
   "outputs": [
    {
     "name": "stdout",
     "output_type": "stream",
     "text": [
      "Predicted values on the test set:\n",
      "[' <=50K' ' <=50K' ' <=50K' ... ' <=50K' ' <=50K' ' <=50K']\n"
     ]
    }
   ],
   "source": [
    "y_pred = logistic_model.predict(X_test)\n",
    "print(\"Predicted values on the test set:\")\n",
    "print(y_pred)"
   ]
  },
  {
   "cell_type": "markdown",
   "id": "1b801aa7-346e-4d9d-a5a9-fc3d5285c8ea",
   "metadata": {},
   "source": [
    "Build a confusion matrix and find the accuracy."
   ]
  },
  {
   "cell_type": "code",
   "execution_count": 51,
   "id": "551941c2-a849-4149-b9ac-312500e0705a",
   "metadata": {},
   "outputs": [
    {
     "name": "stdout",
     "output_type": "stream",
     "text": [
      "Confusion Matrix:\n",
      "[[4942    0]\n",
      " [1571    0]]\n",
      "Accuracy: 75.88%\n"
     ]
    }
   ],
   "source": [
    "from sklearn.metrics import confusion_matrix, accuracy_score\n",
    "y_pred = logistic_model.predict(X_test)\n",
    "conf_matrix = confusion_matrix(y_test, y_pred)\n",
    "print(\"Confusion Matrix:\")\n",
    "print(conf_matrix)\n",
    "accuracy = accuracy_score(y_test, y_pred)\n",
    "print(f\"Accuracy: {accuracy * 100:.2f}%\")"
   ]
  },
  {
   "cell_type": "markdown",
   "id": "0f3d61df-98e5-415b-ae1c-bfb045f78c33",
   "metadata": {},
   "source": []
  },
  {
   "cell_type": "markdown",
   "id": "7f421012-87b8-460f-82bc-f50dda2f8f02",
   "metadata": {},
   "source": [
    "b)Build a multiple logistic regression model as follows:\r\n",
    " Divide the dataset into training and test sets in 80:20 ratio."
   ]
  },
  {
   "cell_type": "code",
   "execution_count": 53,
   "id": "a7c0b3d7-d6d8-408c-9ece-249bd6543ae5",
   "metadata": {},
   "outputs": [
    {
     "name": "stdout",
     "output_type": "stream",
     "text": [
      "Training set size: 26048\n",
      "Test set size: 6513\n"
     ]
    }
   ],
   "source": [
    "from sklearn.model_selection import train_test_split\n",
    "X = Census_Income[['education', 'occupation']] \n",
    "y = Census_Income['income'] \n",
    "X_train, X_test, y_train, y_test = train_test_split(X, y, test_size=0.2, random_state=42)\n",
    "print(\"Training set size:\", X_train.shape[0])\n",
    "print(\"Test set size:\", X_test.shape[0])"
   ]
  },
  {
   "cell_type": "markdown",
   "id": "60db5ec8-3400-4cac-ac81-21ff4298ef06",
   "metadata": {},
   "source": [
    "Build a logistic regression model where the dependent variable is \r\n",
    "“X”(yearly income) and independent variables are “age”, “workclass”, and \r\n",
    "“education.\r"
   ]
  },
  {
   "cell_type": "code",
   "execution_count": 55,
   "id": "9e2a05a7-205b-4f75-9270-b2c3ce1a5c52",
   "metadata": {},
   "outputs": [
    {
     "name": "stdout",
     "output_type": "stream",
     "text": [
      "income\n",
      "0    32561\n",
      "Name: count, dtype: int64\n"
     ]
    },
    {
     "ename": "ValueError",
     "evalue": "Not enough classes in the dataset for classification.",
     "output_type": "error",
     "traceback": [
      "\u001b[1;31m---------------------------------------------------------------------------\u001b[0m",
      "\u001b[1;31mValueError\u001b[0m                                Traceback (most recent call last)",
      "Cell \u001b[1;32mIn[55], line 13\u001b[0m\n\u001b[0;32m     11\u001b[0m y \u001b[38;5;241m=\u001b[39m Census_Income[\u001b[38;5;124m'\u001b[39m\u001b[38;5;124mincome\u001b[39m\u001b[38;5;124m'\u001b[39m]\n\u001b[0;32m     12\u001b[0m \u001b[38;5;28;01mif\u001b[39;00m \u001b[38;5;28mlen\u001b[39m(y\u001b[38;5;241m.\u001b[39munique()) \u001b[38;5;241m<\u001b[39m \u001b[38;5;241m2\u001b[39m:\n\u001b[1;32m---> 13\u001b[0m     \u001b[38;5;28;01mraise\u001b[39;00m \u001b[38;5;167;01mValueError\u001b[39;00m(\u001b[38;5;124m\"\u001b[39m\u001b[38;5;124mNot enough classes in the dataset for classification.\u001b[39m\u001b[38;5;124m\"\u001b[39m)\n\u001b[0;32m     14\u001b[0m X_train, X_test, y_train, y_test \u001b[38;5;241m=\u001b[39m train_test_split(X, y, test_size\u001b[38;5;241m=\u001b[39m\u001b[38;5;241m0.2\u001b[39m, random_state\u001b[38;5;241m=\u001b[39m\u001b[38;5;241m42\u001b[39m, stratify\u001b[38;5;241m=\u001b[39my)\n\u001b[0;32m     15\u001b[0m logistic_model \u001b[38;5;241m=\u001b[39m LogisticRegression(max_iter\u001b[38;5;241m=\u001b[39m\u001b[38;5;241m1000\u001b[39m)\n",
      "\u001b[1;31mValueError\u001b[0m: Not enough classes in the dataset for classification."
     ]
    }
   ],
   "source": [
    "import pandas as pd\n",
    "from sklearn.model_selection import train_test_split\n",
    "from sklearn.linear_model import LogisticRegression\n",
    "from sklearn.metrics import accuracy_score, confusion_matrix\n",
    "Census_Income = pd.read_csv(r\"C:\\Users\\anjan\\OneDrive\\Desktop\\Projects\\census-income-updated.csv\")\n",
    "Census_Income.columns = Census_Income.columns.str.strip()\n",
    "Census_Income['income'] = Census_Income['income'].apply(lambda x: 1 if x == '>50K' else 0)\n",
    "print(Census_Income['income'].value_counts())\n",
    "X = Census_Income[['age', 'workclass', 'education']]\n",
    "X = pd.get_dummies(X, drop_first=True)\n",
    "y = Census_Income['income']\n",
    "if len(y.unique()) < 2:\n",
    "    raise ValueError(\"Not enough classes in the dataset for classification.\")\n",
    "X_train, X_test, y_train, y_test = train_test_split(X, y, test_size=0.2, random_state=42, stratify=y)\n",
    "logistic_model = LogisticRegression(max_iter=1000)\n",
    "logistic_model.fit(X_train, y_train)\n",
    "y_pred = logistic_model.predict(X_test)\n",
    "accuracy = accuracy_score(y_test, y_pred)\n",
    "conf_matrix = confusion_matrix(y_test, y_pred)\n",
    "print(f\"Accuracy: {accuracy:.2f}\")\n",
    "print(f\"Confusion Matrix:\\n{conf_matrix}\")"
   ]
  },
  {
   "cell_type": "markdown",
   "id": "d9635e33-72f3-496f-8bc8-e53e54e0a77f",
   "metadata": {},
   "source": [
    "Predict the values on the test set."
   ]
  },
  {
   "cell_type": "code",
   "execution_count": 58,
   "id": "08bd9de2-4aac-493b-89d1-eb2e3bc7038f",
   "metadata": {},
   "outputs": [
    {
     "name": "stderr",
     "output_type": "stream",
     "text": [
      "C:\\Users\\anjan\\anaconda3\\Lib\\site-packages\\sklearn\\preprocessing\\_encoders.py:868: FutureWarning: `sparse` was renamed to `sparse_output` in version 1.2 and will be removed in 1.4. `sparse_output` is ignored unless you leave `sparse` to its default value.\n",
      "  warnings.warn(\n"
     ]
    },
    {
     "name": "stdout",
     "output_type": "stream",
     "text": [
      "Predictions on the test set:\n",
      "[' >50K' ' <=50K' ' >50K' ... ' >50K' ' <=50K' ' <=50K']\n"
     ]
    }
   ],
   "source": [
    "import pandas as pd\n",
    "from sklearn.model_selection import train_test_split\n",
    "from sklearn.linear_model import LogisticRegression\n",
    "from sklearn.preprocessing import OneHotEncoder\n",
    "from sklearn.compose import ColumnTransformer\n",
    "from sklearn.pipeline import Pipeline\n",
    "Census_Income = pd.read_csv(r\"C:\\Users\\anjan\\OneDrive\\Desktop\\Projects\\census-income-updated.csv\")\n",
    "Census_Income.columns = Census_Income.columns.str.strip()\n",
    "X = Census_Income[['age', 'workclass', 'education']]\n",
    "y = Census_Income['income']\n",
    "categorical_features = ['workclass', 'education']\n",
    "one_hot_encoder = OneHotEncoder(sparse=False, drop='first')\n",
    "pipeline = Pipeline(steps=[\n",
    "    ('preprocessor', ColumnTransformer(\n",
    "        transformers=[\n",
    "            ('cat', one_hot_encoder, categorical_features)\n",
    "        ],\n",
    "        remainder='passthrough')),\n",
    "    ('classifier', LogisticRegression(max_iter=1000))\n",
    "])\n",
    "X_train, X_test, y_train, y_test = train_test_split(X, y, test_size=0.2, random_state=42, stratify=y)\n",
    "pipeline.fit(X_train, y_train)\n",
    "y_pred = pipeline.predict(X_test)\n",
    "print(\"Predictions on the test set:\")\n",
    "print(y_pred)"
   ]
  },
  {
   "cell_type": "markdown",
   "id": "87ae53a7-3f41-4d16-81c2-85ab82101063",
   "metadata": {},
   "source": [
    "Build a confusion matrix and find the accuracy."
   ]
  },
  {
   "cell_type": "code",
   "execution_count": 60,
   "id": "84823a86-cf1c-4842-b3bb-e06bdc10b256",
   "metadata": {},
   "outputs": [
    {
     "name": "stderr",
     "output_type": "stream",
     "text": [
      "C:\\Users\\anjan\\anaconda3\\Lib\\site-packages\\sklearn\\preprocessing\\_encoders.py:868: FutureWarning: `sparse` was renamed to `sparse_output` in version 1.2 and will be removed in 1.4. `sparse_output` is ignored unless you leave `sparse` to its default value.\n",
      "  warnings.warn(\n"
     ]
    },
    {
     "name": "stdout",
     "output_type": "stream",
     "text": [
      "Confusion Matrix:\n",
      "[[4674  271]\n",
      " [1116  452]]\n",
      "Accuracy: 0.79\n"
     ]
    }
   ],
   "source": [
    "import pandas as pd\n",
    "from sklearn.model_selection import train_test_split\n",
    "from sklearn.linear_model import LogisticRegression\n",
    "from sklearn.preprocessing import OneHotEncoder\n",
    "from sklearn.compose import ColumnTransformer\n",
    "from sklearn.pipeline import Pipeline\n",
    "from sklearn.metrics import confusion_matrix, accuracy_score\n",
    "Census_Income = pd.read_csv(r\"C:\\Users\\anjan\\OneDrive\\Desktop\\Projects\\census-income-updated.csv\")\n",
    "Census_Income.columns = Census_Income.columns.str.strip()\n",
    "X = Census_Income[['age', 'workclass', 'education']]\n",
    "y = Census_Income['income']\n",
    "categorical_features = ['workclass', 'education']\n",
    "one_hot_encoder = OneHotEncoder(sparse=False, drop='first')\n",
    "pipeline = Pipeline(steps=[\n",
    "    ('preprocessor', ColumnTransformer(\n",
    "        transformers=[\n",
    "            ('cat', one_hot_encoder, categorical_features)\n",
    "        ],\n",
    "        remainder='passthrough')),  \n",
    "    ('classifier', LogisticRegression(max_iter=1000))\n",
    "])\n",
    "X_train, X_test, y_train, y_test = train_test_split(X, y, test_size=0.2, random_state=42, stratify=y)\n",
    "pipeline.fit(X_train, y_train)\n",
    "y_pred = pipeline.predict(X_test)\n",
    "conf_matrix = confusion_matrix(y_test, y_pred)\n",
    "accuracy = accuracy_score(y_test, y_pred)\n",
    "print(\"Confusion Matrix:\")\n",
    "print(conf_matrix)\n",
    "print(f\"Accuracy: {accuracy:.2f}\")"
   ]
  },
  {
   "cell_type": "markdown",
   "id": "c57b041b-2db4-45f2-92b8-49bcfef5a646",
   "metadata": {},
   "source": []
  },
  {
   "cell_type": "markdown",
   "id": "2743a07c-da9f-4e0f-8f6d-ebcc253c6ba7",
   "metadata": {},
   "source": [
    "5. DECISION TREE"
   ]
  },
  {
   "cell_type": "markdown",
   "id": "fa242fda-f366-432e-8a90-f3f2208f3d3d",
   "metadata": {},
   "source": [
    "a) Build a decision tree model as follows:\n",
    "\n",
    "Divide the dataset into training and test sets in 70:30 ratio."
   ]
  },
  {
   "cell_type": "code",
   "execution_count": 62,
   "id": "870d8dc6-fc53-4f12-8da6-d6910e2dc181",
   "metadata": {},
   "outputs": [
    {
     "name": "stdout",
     "output_type": "stream",
     "text": [
      "Training set size: 22792 samples\n",
      "Test set size: 9769 samples\n"
     ]
    }
   ],
   "source": [
    "import pandas as pd\n",
    "from sklearn.model_selection import train_test_split\n",
    "Census_Income = pd.read_csv(r\"C:\\Users\\anjan\\OneDrive\\Desktop\\Projects\\census-income-updated.csv\")\n",
    "Census_Income.columns = Census_Income.columns.str.strip()\n",
    "X = Census_Income.drop('income', axis=1) \n",
    "y = Census_Income['income']\n",
    "X_train, X_test, y_train, y_test = train_test_split(X, y, test_size=0.3, random_state=42, stratify=y)\n",
    "print(f\"Training set size: {X_train.shape[0]} samples\")\n",
    "print(f\"Test set size: {X_test.shape[0]} samples\")"
   ]
  },
  {
   "cell_type": "markdown",
   "id": "113099da-d934-4cdd-b95a-5567b25e48fe",
   "metadata": {},
   "source": [
    "Build a decision tree model where the dependent variable is “X”(Yearly Income) \r\n",
    "and the rest of the variables as independent variables."
   ]
  },
  {
   "cell_type": "code",
   "execution_count": 64,
   "id": "8ccb869e-236e-42d5-adca-00815986dc29",
   "metadata": {},
   "outputs": [
    {
     "name": "stdout",
     "output_type": "stream",
     "text": [
      "Accuracy of the Decision Tree model: 0.81\n",
      "\n",
      "Classification Report:\n",
      "              precision    recall  f1-score   support\n",
      "\n",
      "       <=50K       0.88      0.87      0.87      7417\n",
      "        >50K       0.60      0.63      0.62      2352\n",
      "\n",
      "    accuracy                           0.81      9769\n",
      "   macro avg       0.74      0.75      0.75      9769\n",
      "weighted avg       0.81      0.81      0.81      9769\n",
      "\n"
     ]
    }
   ],
   "source": [
    "import pandas as pd\n",
    "from sklearn.model_selection import train_test_split\n",
    "from sklearn.tree import DecisionTreeClassifier\n",
    "from sklearn.metrics import accuracy_score, classification_report\n",
    "from sklearn.preprocessing import OneHotEncoder\n",
    "from sklearn.compose import ColumnTransformer\n",
    "from sklearn.pipeline import Pipeline\n",
    "\n",
    "Census_Income = pd.read_csv(r\"C:\\Users\\anjan\\OneDrive\\Desktop\\Projects\\census-income-updated.csv\")\n",
    "Census_Income.columns = Census_Income.columns.str.strip()\n",
    "X = Census_Income.drop('income', axis=1) \n",
    "y = Census_Income['income']\n",
    "X_train, X_test, y_train, y_test = train_test_split(X, y, test_size=0.3, random_state=42, stratify=y)\n",
    "categorical_features = X_train.select_dtypes(include=['object']).columns.tolist()\n",
    "preprocessor = ColumnTransformer(\n",
    "    transformers=[\n",
    "        ('cat', OneHotEncoder(), categorical_features)\n",
    "    ],\n",
    "    remainder='passthrough'  \n",
    ")\n",
    "pipeline = Pipeline(steps=[\n",
    "    ('preprocessor', preprocessor),\n",
    "    ('classifier', DecisionTreeClassifier(random_state=42))\n",
    "])\n",
    "pipeline.fit(X_train, y_train)\n",
    "y_pred = pipeline.predict(X_test)\n",
    "accuracy = accuracy_score(y_test, y_pred)\n",
    "print(f\"Accuracy of the Decision Tree model: {accuracy:.2f}\")\n",
    "print(\"\\nClassification Report:\")\n",
    "print(classification_report(y_test, y_pred))"
   ]
  },
  {
   "cell_type": "markdown",
   "id": "ae3e5039-19b5-4edf-ac90-0611385d9f67",
   "metadata": {},
   "source": [
    "Predict the values on the test set."
   ]
  },
  {
   "cell_type": "code",
   "execution_count": 66,
   "id": "74e4e108-acdf-4d41-870b-cbe692449695",
   "metadata": {},
   "outputs": [
    {
     "name": "stdout",
     "output_type": "stream",
     "text": [
      "Predictions on the test set:\n",
      "[' <=50K' ' <=50K' ' <=50K' ... ' <=50K' ' >50K' ' <=50K']\n"
     ]
    }
   ],
   "source": [
    "y_pred = pipeline.predict(X_test)\n",
    "print(\"Predictions on the test set:\")\n",
    "print(y_pred)"
   ]
  },
  {
   "cell_type": "markdown",
   "id": "74dc93bc-de8e-4967-af6b-0bd7fccfadb5",
   "metadata": {},
   "source": [
    "Build a confusion matrix and calculate the accuracy."
   ]
  },
  {
   "cell_type": "code",
   "execution_count": 68,
   "id": "5a47e0a0-ea4f-48b0-82eb-f0f94112951b",
   "metadata": {},
   "outputs": [
    {
     "name": "stdout",
     "output_type": "stream",
     "text": [
      "Confusion Matrix:\n",
      "[[6440  977]\n",
      " [ 866 1486]]\n",
      "Accuracy: 0.81\n"
     ]
    },
    {
     "data": {
      "image/png": "[encoded data removed]",
      "text/plain": [
       "<Figure size 800x600 with 2 Axes>"
      ]
     },
     "metadata": {},
     "output_type": "display_data"
    }
   ],
   "source": [
    "from sklearn.metrics import confusion_matrix, accuracy_score\n",
    "import seaborn as sns\n",
    "import matplotlib.pyplot as plt\n",
    "\n",
    "cm = confusion_matrix(y_test, y_pred)\n",
    "accuracy = accuracy_score(y_test, y_pred)\n",
    "print(\"Confusion Matrix:\")\n",
    "print(cm)\n",
    "print(f\"Accuracy: {accuracy:.2f}\")\n",
    "plt.figure(figsize=(8, 6))\n",
    "sns.heatmap(cm, annot=True, fmt='d', cmap='Blues', xticklabels=['<=50K', '>50K'], yticklabels=['<=50K', '>50K'])\n",
    "plt.ylabel('Actual')\n",
    "plt.xlabel('Predicted')\n",
    "plt.title('Confusion Matrix')\n",
    "plt.show()"
   ]
  },
  {
   "cell_type": "markdown",
   "id": "e9cbe9d5-5f75-4a45-82e0-ae66df7ede07",
   "metadata": {},
   "source": []
  },
  {
   "cell_type": "markdown",
   "id": "b40effcf-0a7d-424f-8467-e050116f114f",
   "metadata": {},
   "source": [
    "6. RANDOM FOREST"
   ]
  },
  {
   "cell_type": "markdown",
   "id": "03a7fb53-167a-4a7c-a8c4-4176348c5eb3",
   "metadata": {},
   "source": [
    "a) Build a random forest model as follows:\r\n",
    " Divide the dataset into training and test sets in 80:20 ratio"
   ]
  },
  {
   "cell_type": "code",
   "execution_count": 70,
   "id": "b9c1153e-5214-43f3-a333-9332080a6849",
   "metadata": {},
   "outputs": [
    {
     "name": "stdout",
     "output_type": "stream",
     "text": [
      "Training set size: 26048 records\n",
      "Test set size: 6513 records\n"
     ]
    }
   ],
   "source": [
    "import pandas as pd\n",
    "from sklearn.model_selection import train_test_split\n",
    "Census_Income = pd.read_csv(r\"C:\\Users\\anjan\\OneDrive\\Desktop\\Projects\\census-income-updated.csv\")\n",
    "X = Census_Income.drop('income', axis=1) \n",
    "y = Census_Income['income'] \n",
    "X_train, X_test, y_train, y_test = train_test_split(X, y, test_size=0.2, random_state=42)\n",
    "print(f\"Training set size: {X_train.shape[0]} records\")\n",
    "print(f\"Test set size: {X_test.shape[0]} records\")"
   ]
  },
  {
   "cell_type": "markdown",
   "id": "671ea723-ac8d-42e7-891c-28fb0814ded1",
   "metadata": {},
   "source": [
    "Build a random forest model where the dependent variable is “X”(Yearly Income) \r\n",
    "and the rest of the variables as independent variables and number of trees as \r\n",
    "3.00"
   ]
  },
  {
   "cell_type": "code",
   "execution_count": 72,
   "id": "8892b2cd-0e5c-4bba-b22a-3fa4296346b1",
   "metadata": {},
   "outputs": [
    {
     "name": "stdout",
     "output_type": "stream",
     "text": [
      "Confusion Matrix:\n",
      "[[4599  343]\n",
      " [ 577  994]]\n",
      "\n",
      "Classification Report:\n",
      "              precision    recall  f1-score   support\n",
      "\n",
      "       <=50K       0.89      0.93      0.91      4942\n",
      "        >50K       0.74      0.63      0.68      1571\n",
      "\n",
      "    accuracy                           0.86      6513\n",
      "   macro avg       0.82      0.78      0.80      6513\n",
      "weighted avg       0.85      0.86      0.85      6513\n",
      "\n"
     ]
    }
   ],
   "source": [
    "import pandas as pd\n",
    "from sklearn.model_selection import train_test_split\n",
    "from sklearn.ensemble import RandomForestClassifier\n",
    "from sklearn.metrics import classification_report, confusion_matrix\n",
    "\n",
    "Census_Income = pd.read_csv(r\"C:\\Users\\anjan\\OneDrive\\Desktop\\Projects\\census-income-updated.csv\")\n",
    "X = Census_Income.drop('income', axis=1)  \n",
    "y = Census_Income['income']  \n",
    "X_encoded = pd.get_dummies(X, drop_first=True)\n",
    "X_train, X_test, y_train, y_test = train_test_split(X_encoded, y, test_size=0.2, random_state=42)\n",
    "rf_model = RandomForestClassifier(n_estimators=300, random_state=42)\n",
    "rf_model.fit(X_train, y_train)\n",
    "y_pred = rf_model.predict(X_test)\n",
    "print(\"Confusion Matrix:\")\n",
    "print(confusion_matrix(y_test, y_pred))\n",
    "print(\"\\nClassification Report:\")\n",
    "print(classification_report(y_test, y_pred))"
   ]
  },
  {
   "cell_type": "markdown",
   "id": "db068168-2ec7-478a-963e-0228a35a79c5",
   "metadata": {},
   "source": [
    "Predict values on the test set"
   ]
  },
  {
   "cell_type": "code",
   "execution_count": 74,
   "id": "21ea950b-052a-40eb-ae35-32680891d577",
   "metadata": {},
   "outputs": [
    {
     "name": "stdout",
     "output_type": "stream",
     "text": [
      "Predicted values on the test set:\n",
      "[' <=50K' ' <=50K' ' >50K' ... ' >50K' ' <=50K' ' <=50K']\n"
     ]
    }
   ],
   "source": [
    "y_pred = rf_model.predict(X_test)\n",
    "print(\"Predicted values on the test set:\")\n",
    "print(y_pred)"
   ]
  },
  {
   "cell_type": "markdown",
   "id": "0888af0b-68b9-48a7-ab69-6b4bbd39a4e1",
   "metadata": {},
   "source": [
    "Build a confusion matrix and calculate the accuracy"
   ]
  },
  {
   "cell_type": "code",
   "execution_count": 1,
   "id": "1e5430ff-5a05-4e71-85dd-9b1e11f99370",
   "metadata": {},
   "outputs": [
    {
     "name": "stdout",
     "output_type": "stream",
     "text": [
      "Confusion Matrix:\n",
      "[[43 15  3 ...  0  0  0]\n",
      " [30 29 15 ...  0  0  0]\n",
      " [ 7 13 26 ...  0  0  0]\n",
      " ...\n",
      " [ 0  0  0 ...  0  0  0]\n",
      " [ 0  0  0 ...  0  0  0]\n",
      " [ 0  0  2 ...  1  0  0]]\n",
      "Accuracy: 0.05\n"
     ]
    }
   ],
   "source": [
    "from sklearn.ensemble import RandomForestClassifier\n",
    "from sklearn.model_selection import train_test_split\n",
    "from sklearn.metrics import confusion_matrix, accuracy_score\n",
    "import pandas as pd\n",
    "\n",
    "Census_Income = pd.read_csv(r\"C:\\Users\\anjan\\OneDrive\\Desktop\\Projects\\census-income-updated.csv\")\n",
    "Census_Income = pd.get_dummies(Census_Income)\n",
    "X = Census_Income.drop('age', axis=1)  \n",
    "y = Census_Income['age']  \n",
    "X_train, X_test, y_train, y_test = train_test_split(X, y, test_size=0.2, random_state=42)\n",
    "rf_model = RandomForestClassifier(n_estimators=300, random_state=42)\n",
    "rf_model.fit(X_train, y_train)\n",
    "y_pred = rf_model.predict(X_test)\n",
    "conf_matrix = confusion_matrix(y_test, y_pred)\n",
    "accuracy = accuracy_score(y_test, y_pred)\n",
    "print(\"Confusion Matrix:\")\n",
    "print(conf_matrix)\n",
    "print(f\"Accuracy: {accuracy:.2f}\")"
   ]
  },
  {
   "cell_type": "markdown",
   "id": "26d6bd4f-4582-4b3c-966c-9a044b2d9ba2",
   "metadata": {},
   "source": []
  },
  {
   "cell_type": "markdown",
   "id": "9dccb399-a4e0-4297-95f4-ff7b8ce5ebaa",
   "metadata": {},
   "source": []
  },
  {
   "cell_type": "code",
   "execution_count": 3,
   "id": "f229ad50-1cfc-4566-a44b-c224b5d01518",
   "metadata": {},
   "outputs": [
    {
     "data": {
      "text/html": [
       "<div>\n",
       "<style scoped>\n",
       "    .dataframe tbody tr th:only-of-type {\n",
       "        vertical-align: middle;\n",
       "    }\n",
       "\n",
       "    .dataframe tbody tr th {\n",
       "        vertical-align: top;\n",
       "    }\n",
       "\n",
       "    .dataframe thead th {\n",
       "        text-align: right;\n",
       "    }\n",
       "</style>\n",
       "<table border=\"1\" class=\"dataframe\">\n",
       "  <thead>\n",
       "    <tr style=\"text-align: right;\">\n",
       "      <th></th>\n",
       "      <th>value</th>\n",
       "      <th>date</th>\n",
       "    </tr>\n",
       "  </thead>\n",
       "  <tbody>\n",
       "    <tr>\n",
       "      <th>0</th>\n",
       "      <td>127299.000</td>\n",
       "      <td>1952-01-01</td>\n",
       "    </tr>\n",
       "    <tr>\n",
       "      <th>1</th>\n",
       "      <td>127517.000</td>\n",
       "      <td>1952-02-01</td>\n",
       "    </tr>\n",
       "    <tr>\n",
       "      <th>2</th>\n",
       "      <td>127721.000</td>\n",
       "      <td>1952-03-01</td>\n",
       "    </tr>\n",
       "    <tr>\n",
       "      <th>3</th>\n",
       "      <td>127933.000</td>\n",
       "      <td>1952-04-01</td>\n",
       "    </tr>\n",
       "    <tr>\n",
       "      <th>4</th>\n",
       "      <td>128130.000</td>\n",
       "      <td>1952-05-01</td>\n",
       "    </tr>\n",
       "    <tr>\n",
       "      <th>...</th>\n",
       "      <td>...</td>\n",
       "      <td>...</td>\n",
       "    </tr>\n",
       "    <tr>\n",
       "      <th>811</th>\n",
       "      <td>300581.333</td>\n",
       "      <td>2019-08-01</td>\n",
       "    </tr>\n",
       "    <tr>\n",
       "      <th>812</th>\n",
       "      <td>300775.872</td>\n",
       "      <td>2019-09-01</td>\n",
       "    </tr>\n",
       "    <tr>\n",
       "      <th>813</th>\n",
       "      <td>300972.035</td>\n",
       "      <td>2019-10-01</td>\n",
       "    </tr>\n",
       "    <tr>\n",
       "      <th>814</th>\n",
       "      <td>301144.949</td>\n",
       "      <td>2019-11-01</td>\n",
       "    </tr>\n",
       "    <tr>\n",
       "      <th>815</th>\n",
       "      <td>301299.946</td>\n",
       "      <td>2019-12-01</td>\n",
       "    </tr>\n",
       "  </tbody>\n",
       "</table>\n",
       "<p>816 rows × 2 columns</p>\n",
       "</div>"
      ],
      "text/plain": [
       "          value        date\n",
       "0    127299.000  1952-01-01\n",
       "1    127517.000  1952-02-01\n",
       "2    127721.000  1952-03-01\n",
       "3    127933.000  1952-04-01\n",
       "4    128130.000  1952-05-01\n",
       "..          ...         ...\n",
       "811  300581.333  2019-08-01\n",
       "812  300775.872  2019-09-01\n",
       "813  300972.035  2019-10-01\n",
       "814  301144.949  2019-11-01\n",
       "815  301299.946  2019-12-01\n",
       "\n",
       "[816 rows x 2 columns]"
      ]
     },
     "execution_count": 3,
     "metadata": {},
     "output_type": "execute_result"
    }
   ],
   "source": [
    "import pandas as pd\n",
    "population=pd.read_csv(r\"C:\\Users\\anjan\\OneDrive\\Desktop\\Projects\\popdata (3).csv\")\n",
    "population"
   ]
  },
  {
   "cell_type": "markdown",
   "id": "fa3a7371-1ae2-4dda-b100-f073063ea10b",
   "metadata": {},
   "source": [
    "1. EDA on the time series to find trends and seasonality."
   ]
  },
  {
   "cell_type": "code",
   "execution_count": 7,
   "id": "4d696bef-0465-45c3-ae81-653e4d96a7dc",
   "metadata": {},
   "outputs": [
    {
     "data": {
      "image/png": "[encoded data removed]",
      "text/plain": [
       "<Figure size 1000x600 with 1 Axes>"
      ]
     },
     "metadata": {},
     "output_type": "display_data"
    },
    {
     "data": {
      "text/plain": [
       "<Figure size 1000x800 with 0 Axes>"
      ]
     },
     "metadata": {},
     "output_type": "display_data"
    },
    {
     "data": {
      "image/png": "[encoded data removed]",
      "text/plain": [
       "<Figure size 640x480 with 4 Axes>"
      ]
     },
     "metadata": {},
     "output_type": "display_data"
    },
    {
     "name": "stdout",
     "output_type": "stream",
     "text": [
      "Trend Component:\n",
      "date\n",
      "1952-07-01    128593.583333\n",
      "1952-08-01    128814.708333\n",
      "1952-09-01    129033.916667\n",
      "1952-10-01    129251.875000\n",
      "1952-11-01    129469.291667\n",
      "                  ...      \n",
      "2019-02-01    299592.683708\n",
      "2019-03-01    299758.607333\n",
      "2019-04-01    299924.531042\n",
      "2019-05-01    300090.454792\n",
      "2019-06-01    300256.378542\n",
      "Name: trend, Length: 804, dtype: float64\n",
      "\n",
      "Seasonal Component:\n",
      "date\n",
      "1952-01-01    38.761499\n",
      "1952-02-01     6.385953\n",
      "1952-03-01   -28.698926\n",
      "1952-04-01   -42.365082\n",
      "1952-05-01   -56.865341\n",
      "                ...    \n",
      "2019-08-01   -14.328245\n",
      "2019-09-01    21.378230\n",
      "2019-10-01    53.902023\n",
      "2019-11-01    62.702834\n",
      "2019-12-01    53.797607\n",
      "Name: seasonal, Length: 816, dtype: float64\n",
      "\n",
      "Residual Component:\n",
      "date\n",
      "1952-07-01    -7.934518\n",
      "1952-08-01   -12.380088\n",
      "1952-09-01   -12.294897\n",
      "1952-10-01    -9.777023\n",
      "1952-11-01   -90.994500\n",
      "                ...    \n",
      "2019-02-01     1.674339\n",
      "2019-03-01     2.934592\n",
      "2019-04-01    -1.915960\n",
      "2019-05-01     3.729549\n",
      "2019-06-01    -0.367804\n",
      "Name: resid, Length: 804, dtype: float64\n"
     ]
    }
   ],
   "source": [
    "import pandas as pd\n",
    "import matplotlib.pyplot as plt\n",
    "from statsmodels.tsa.seasonal import seasonal_decompose\n",
    "\n",
    "population = pd.read_csv(r\"C:\\Users\\anjan\\OneDrive\\Desktop\\Projects\\popdata (3).csv\", parse_dates=['date'], index_col='date')\n",
    "plt.figure(figsize=(10, 6))\n",
    "plt.plot(population['value'], label='Time Series Data')\n",
    "plt.title('Time Series Data')\n",
    "plt.xlabel('Date')\n",
    "plt.ylabel('Value')\n",
    "plt.legend()\n",
    "plt.show()\n",
    "result = seasonal_decompose(population['value'], model='additive', period=12)  \n",
    "plt.figure(figsize=(10, 8))\n",
    "result.plot()\n",
    "plt.show()\n",
    "\n",
    "trend = result.trend\n",
    "seasonal = result.seasonal\n",
    "residual = result.resid\n",
    "\n",
    "print(\"Trend Component:\")\n",
    "print(trend.dropna())  \n",
    "\n",
    "print(\"\\nSeasonal Component:\")\n",
    "print(seasonal.dropna())  \n",
    "\n",
    "print(\"\\nResidual Component:\")\n",
    "print(residual.dropna()) \n"
   ]
  },
  {
   "cell_type": "markdown",
   "id": "82e9656e-02ea-462e-915f-1765936dd19d",
   "metadata": {},
   "source": []
  },
  {
   "cell_type": "markdown",
   "id": "4ded7ab5-2a6a-4470-96df-05c7b3683282",
   "metadata": {},
   "source": [
    "2. Forecast the population on the given dataset for the next 6 months."
   ]
  },
  {
   "cell_type": "code",
   "execution_count": 19,
   "id": "fe13b812-7742-4fdc-98c5-b672b87a7b60",
   "metadata": {},
   "outputs": [
    {
     "data": {
      "image/png": "[encoded data removed]",
      "text/plain": [
       "<Figure size 1000x600 with 1 Axes>"
      ]
     },
     "metadata": {},
     "output_type": "display_data"
    },
    {
     "name": "stderr",
     "output_type": "stream",
     "text": [
      "C:\\Users\\anjan\\anaconda3\\Lib\\site-packages\\statsmodels\\tsa\\base\\tsa_model.py:473: ValueWarning: No frequency information was provided, so inferred frequency MS will be used.\n",
      "  self._init_dates(dates, freq)\n",
      "C:\\Users\\anjan\\anaconda3\\Lib\\site-packages\\statsmodels\\tsa\\base\\tsa_model.py:473: ValueWarning: No frequency information was provided, so inferred frequency MS will be used.\n",
      "  self._init_dates(dates, freq)\n",
      "C:\\Users\\anjan\\anaconda3\\Lib\\site-packages\\statsmodels\\tsa\\base\\tsa_model.py:473: ValueWarning: No frequency information was provided, so inferred frequency MS will be used.\n",
      "  self._init_dates(dates, freq)\n"
     ]
    },
    {
     "name": "stdout",
     "output_type": "stream",
     "text": [
      "Forecasted Population for Next 6 Months:\n",
      "2020-01-01    301450.857853\n",
      "2020-02-01    301596.937477\n",
      "2020-03-01    301744.341271\n",
      "2020-04-01    301890.637508\n",
      "2020-05-01    302034.265035\n",
      "2020-06-01    302175.132601\n",
      "Freq: MS, Name: predicted_mean, dtype: float64\n"
     ]
    },
    {
     "data": {
      "image/png": "[encoded data removed]",
      "text/plain": [
       "<Figure size 1000x600 with 1 Axes>"
      ]
     },
     "metadata": {},
     "output_type": "display_data"
    }
   ],
   "source": [
    "import pandas as pd\n",
    "import matplotlib.pyplot as plt\n",
    "from statsmodels.tsa.arima.model import ARIMA\n",
    "\n",
    "population = pd.read_csv(r\"C:\\Users\\anjan\\OneDrive\\Desktop\\Projects\\popdata (3).csv\", parse_dates=['date'], index_col='date')\n",
    "plt.figure(figsize=(10, 6))\n",
    "plt.plot(population['value'], label='Time Series Data')\n",
    "plt.title('Time Series Data')\n",
    "plt.xlabel('Date')\n",
    "plt.ylabel('value')\n",
    "plt.legend()\n",
    "plt.show()\n",
    "\n",
    "model = ARIMA(population['value'], order=(5, 1, 0))  # p=5, d=1, q=0 are example values, tune them based on your data\n",
    "model_fit = model.fit()\n",
    "forecast = model_fit.forecast(steps=6)\n",
    "\n",
    "print(\"Forecasted Population for Next 6 Months:\")\n",
    "print(forecast)\n",
    "\n",
    "plt.figure(figsize=(10, 6))\n",
    "plt.plot(population['value'], label='Historical Population Data')\n",
    "plt.plot(forecast.index, forecast, label='Forecasted Population', color='red', linestyle='--')\n",
    "plt.title('Population Forecast for Next 6 Months')\n",
    "plt.xlabel('Date')\n",
    "plt.ylabel('value')\n",
    "plt.legend()\n",
    "plt.show()\n"
   ]
  },
  {
   "cell_type": "code",
   "execution_count": null,
   "id": "3bd45541-c56a-4a55-a4a4-5446ebaf1e72",
   "metadata": {},
   "outputs": [],
   "source": []
  }
 ],
 "metadata": {
  "kernelspec": {
   "display_name": "Python 3 (ipykernel)",
   "language": "python",
   "name": "python3"
  },
  "language_info": {
   "codemirror_mode": {
    "name": "ipython",
    "version": 3
   },
   "file_extension": ".py",
   "mimetype": "text/x-python",
   "name": "python",
   "nbconvert_exporter": "python",
   "pygments_lexer": "ipython3",
   "version": "3.11.7"
  }
 },
 "nbformat": 4,
 "nbformat_minor": 5
}
